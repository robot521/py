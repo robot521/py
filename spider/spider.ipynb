{
 "cells": [
  {
   "cell_type": "markdown",
   "metadata": {},
   "source": [
    "# python爬虫常用库与插件\n",
    "- urllib urllib.request\n",
    "- re\n",
    "- requests\n",
    "- selenium webdriver chromedriver\n",
    "- lxml\n",
    "- beautifulsoup\n",
    "- pyquery\n",
    "- pymysql\n",
    "    - conn = pymysql.connect\n",
    "    - conn = pymysql.connect('127.0.0.1', user='root',password='robot123', port=3306,db='mysql')\n",
    "    - cursor = conn.cursor()\n",
    "    - cursor.execute('show tables')\n",
    "    - cursor.fetchone()\n",
    "- pymongo\n",
    "    -  client = pymongo.MongoClient(\"localhost\")\n",
    "    - db = client[\"newtestdb\"]\n",
    "    - db['table'].insert(('name':'Bob'))\n",
    "    - db['table'].find_one(('name':'first'))pip install\n",
    "- redis\n",
    "    - r = redis.Redis('localhost', 6379, password='robot123')\n",
    "    - r.set('aa', 'aa')\n",
    "    - r.get('aa')\n",
    "- flask\n",
    "                     \n",
    "                     from flask import Flask\n",
    "                     app = Flask(__name__)\n",
    "                     @app.route('/')\n",
    "                     def hello_world():\n",
    "                     return 'Hello, World!'\n",
    "                   \n",
    "- django "
   ]
  }
 ],
 "metadata": {
  "kernelspec": {
   "display_name": "Python 3",
   "language": "python",
   "name": "python3"
  },
  "language_info": {
   "codemirror_mode": {
    "name": "ipython",
    "version": 3
   },
   "file_extension": ".py",
   "mimetype": "text/x-python",
   "name": "python",
   "nbconvert_exporter": "python",
   "pygments_lexer": "ipython3",
   "version": "3.7.0"
  }
 },
 "nbformat": 4,
 "nbformat_minor": 2
}
