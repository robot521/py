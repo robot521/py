{
 "cells": [
  {
   "cell_type": "markdown",
   "metadata": {},
   "source": [
    "# 正则表达式\n",
    "## re.match()\n",
    "- 尝试从字符串的其实位置匹配一个模式，如果不是起始位置匹配成功的话，match()返回none\n",
    "- match()从字符串的第一个字符开始匹配，如果不能找到第一个字符，则返回none\n",
    "- re.match(pattern, string, flags=0)\n",
    "- 尽量使用泛匹配，使用小括号可以得到匹配目标，尽量使用非贪婪模式，由换行符就使用re.S\n",
    "## 常规匹配"
   ]
  },
  {
   "cell_type": "code",
   "execution_count": 16,
   "metadata": {},
   "outputs": [
    {
     "name": "stdout",
     "output_type": "stream",
     "text": [
      "41\n",
      "<re.Match object; span=(0, 41), match='Hello 123 4567 World_This is a Regex Demo'>\n",
      "Hello 123 4567 World_This is a Regex Demo\n",
      "(0, 41)\n"
     ]
    }
   ],
   "source": [
    "# 常规匹配\n",
    "import re\n",
    "\n",
    "content= 'Hello 123 4567 World_This is a Regex Demo'\n",
    "print(len(content))\n",
    "result = re.match('^Hello\\s\\d\\d\\d\\s\\d{4}\\s\\w{10}.*Demo$', content)\n",
    "print(result)\n",
    "# group()获得一个或多个分组截获的字符串；指定多个参数时将以元组形式返回。group1可以使用编号也可以使用别名；编号0代表整个匹配的子串；不填写参数时，返回group(0)；没有截获字符串的组返回None；截获了多次的组返回最后一次截获的子串。\n",
    "print(result.group())\n",
    "# span() 输出匹配结果的长度范围\n",
    "print(result.span())"
   ]
  },
  {
   "cell_type": "markdown",
   "metadata": {},
   "source": [
    "## 泛匹配 *"
   ]
  },
  {
   "cell_type": "code",
   "execution_count": 17,
   "metadata": {
    "scrolled": true
   },
   "outputs": [
    {
     "name": "stdout",
     "output_type": "stream",
     "text": [
      "<re.Match object; span=(0, 41), match='Hello 123 4567 World_This is a Regex Demo'>\n",
      "Hello 123 4567 World_This is a Regex Demo\n",
      "(0, 41)\n"
     ]
    }
   ],
   "source": [
    "import re\n",
    "\n",
    "content= 'Hello 123 4567 World_This is a Regex Demo'\n",
    "# 使用通配符*进行泛匹配\n",
    "result = re.match('^Hello.*Demo$', content)\n",
    "print(result)\n",
    "# group()返回匹配结果\n",
    "print(result.group())\n",
    "# span() 输出匹配结果的长度范围\n",
    "print(result.span())"
   ]
  },
  {
   "cell_type": "markdown",
   "metadata": {},
   "source": [
    "## 匹配目标"
   ]
  },
  {
   "cell_type": "code",
   "execution_count": 36,
   "metadata": {},
   "outputs": [
    {
     "name": "stdout",
     "output_type": "stream",
     "text": [
      "<re.Match object; span=(0, 40), match='Hello 1234567 World_This is a Regex Demo'>\n",
      "1234567\n",
      "(0, 40)\n"
     ]
    }
   ],
   "source": [
    "import re\n",
    "\n",
    "content= 'Hello 1234567 World_This is a Regex Demo'\n",
    "result = re.match('^Hel*.\\s(\\d+).*Demo', content)\n",
    "print(result)\n",
    "# group()返回match()中第一个小括号中的匹配结果\n",
    "print(result.group(1))\n",
    "# span() 输出匹配结果的长度范围\n",
    "print(result.span())"
   ]
  },
  {
   "cell_type": "markdown",
   "metadata": {},
   "source": [
    "## 贪婪匹配\n"
   ]
  },
  {
   "cell_type": "code",
   "execution_count": 29,
   "metadata": {},
   "outputs": [
    {
     "name": "stdout",
     "output_type": "stream",
     "text": [
      "<re.Match object; span=(0, 40), match='Hello 1234567 World_This is a Regex Demo'>\n",
      "7\n"
     ]
    }
   ],
   "source": [
    "import re\n",
    "\n",
    "content= 'Hello 1234567 World_This is a Regex Demo'\n",
    "# 贪婪匹配只会输出指定字符串中的最后一位\n",
    "result = re.match('^He.*(\\d+).*Demo', content)\n",
    "print(result)\n",
    "# group()返回match()中第一个小括号中的匹配结果\n",
    "print(result.group(1))"
   ]
  },
  {
   "cell_type": "markdown",
   "metadata": {},
   "source": [
    "## 非贪婪匹配\n",
    "- *?"
   ]
  },
  {
   "cell_type": "code",
   "execution_count": 39,
   "metadata": {},
   "outputs": [
    {
     "name": "stdout",
     "output_type": "stream",
     "text": [
      "<re.Match object; span=(0, 40), match='Hello 1234567 World_This is a Regex Demo'>\n",
      "1234567\n"
     ]
    }
   ],
   "source": [
    "import re\n",
    "\n",
    "content= 'Hello 1234567 World_This is a Regex Demo'\n",
    "# 贪婪匹配中的*会包括除小括号中占位符之外的所有字符\n",
    "result = re.match('^He.*?(\\d+).*Demo', content)\n",
    "print(result)\n",
    "# group()返回match()中第一个小括号中的匹配结果\n",
    "print(result.group(1))"
   ]
  },
  {
   "cell_type": "markdown",
   "metadata": {},
   "source": [
    "## 匹配模式"
   ]
  },
  {
   "cell_type": "code",
   "execution_count": 56,
   "metadata": {},
   "outputs": [
    {
     "name": "stdout",
     "output_type": "stream",
     "text": [
      "1234567\n"
     ]
    }
   ],
   "source": [
    "import re\n",
    "\n",
    "content1 = '''Hello 1234567\n",
    "World_This is a\n",
    "Regex Demo'''\n",
    "# .不能匹配换行符，需要指定匹配模式\n",
    "result1 = re.match('^He.*?(\\d+).*?Demo$',content,re.S)\n",
    "print(result.group(1))\n"
   ]
  },
  {
   "cell_type": "code",
   "execution_count": 55,
   "metadata": {},
   "outputs": [
    {
     "name": "stdout",
     "output_type": "stream",
     "text": [
      "<re.Match object; span=(0, 40), match='Hello 1234567\\nWorld_This is a\\nRegex Demo'>\n"
     ]
    }
   ],
   "source": []
  },
  {
   "cell_type": "code",
   "execution_count": null,
   "metadata": {},
   "outputs": [],
   "source": []
  },
  {
   "cell_type": "code",
   "execution_count": null,
   "metadata": {},
   "outputs": [],
   "source": []
  }
 ],
 "metadata": {
  "kernelspec": {
   "display_name": "Python 3",
   "language": "python",
   "name": "python3"
  },
  "language_info": {
   "codemirror_mode": {
    "name": "ipython",
    "version": 3
   },
   "file_extension": ".py",
   "mimetype": "text/x-python",
   "name": "python",
   "nbconvert_exporter": "python",
   "pygments_lexer": "ipython3",
   "version": "3.7.0"
  }
 },
 "nbformat": 4,
 "nbformat_minor": 2
}
